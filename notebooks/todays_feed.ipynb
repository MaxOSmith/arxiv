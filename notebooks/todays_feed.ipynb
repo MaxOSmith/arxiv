{
 "cells": [
  {
   "cell_type": "code",
   "execution_count": null,
   "metadata": {},
   "outputs": [],
   "source": [
    "import numpy as np\n",
    "import re\n",
    "import requests\n",
    "import string\n",
    "import urllib\n",
    "\n",
    "import bs4\n",
    "from IPython.core.display import display, HTML\n",
    "import feedparser\n",
    "\n",
    "# Base API query URL.\n",
    "BASE_URL = \"http://arxiv.org/list/{}/new\""
   ]
  },
  {
   "cell_type": "code",
   "execution_count": null,
   "metadata": {},
   "outputs": [],
   "source": [
    "def get_new_papers(subject):\n",
    "    url = BASE_URL.format(subject)\n",
    "    \n",
    "    soup = requests.get(url)\n",
    "    soup = bs4.BeautifulSoup(soup.text, \"html.parser\")\n",
    "    \n",
    "    # Papers are enclosed in `dd` tags.\n",
    "    entries = soup.find_all(\"dd\")\n",
    "    ids = [re.findall('\\d*\\.\\d+|\\d+',num.text)[0] \\\n",
    "           for num in soup.find_all('span', {'class': 'list-identifier'})]\n",
    "\n",
    "    papers = {}\n",
    "    for arxiv_id, entry in zip(ids, entries):\n",
    "        paper = {}\n",
    "        paper[\"id\"] = arxiv_id\n",
    "    \n",
    "        title = entry.find_next(\"div\", {\"class\": \"list-title\"}).text.split(\"Title:\")[-1].strip()\n",
    "        paper[\"title\"] = title\n",
    "        \n",
    "        authors = entry.find_next('div', {'class': 'list-authors'}).text.split('Authors:')[-1].strip().split(', \\n')\n",
    "        paper[\"authors\"] = authors\n",
    "        \n",
    "        subjects = entry.find_next('div', {'class': 'list-subjects'}).text.split('Subjects:')[-1].strip().split('; ')\n",
    "        subjects = set(subjects)\n",
    "        paper[\"subjects\"] = subjects\n",
    "        \n",
    "        abstract = entry.find_next('p', {'class': 'mathjax'})\n",
    "        if abstract is None:\n",
    "            abstract = \"\"\n",
    "        else:\n",
    "            abstract = abstract.text\n",
    "        paper[\"abstract\"] = abstract.replace('\\n', ' ')\n",
    "            \n",
    "        papers[arxiv_id] = paper\n",
    "    return papers\n",
    "\n",
    "\n",
    "HIGHLIGHT_TEMPLATE = '<span style=\"color:blue\">{}</span>'\n",
    "\n",
    "\n",
    "def highlight(x, text):\n",
    "    original_text = text.split(' ')\n",
    "    \n",
    "    x = x.lower()\n",
    "    text = [y.strip(string.punctuation).lower() for y in text.split(' ')]\n",
    "    indices = [i for i, y in enumerate(text) if y == x]\n",
    "    \n",
    "    for index in indices:\n",
    "        original_text[index] = HIGHLIGHT_TEMPLATE.format(original_text[index])\n",
    "        \n",
    "    return ' '.join(original_text)\n",
    "    \n",
    "\n",
    "def is_interesting(paper):\n",
    "    for author in paper[\"authors\"]:\n",
    "        if author in AUTHORS:\n",
    "            return True\n",
    "    for keyword in KEYWORDS:\n",
    "        if keyword.lower() in paper[\"abstract\"].lower() or keyword in paper[\"title\"].lower():\n",
    "            return True\n",
    "    return False\n",
    "\n",
    "\n",
    "def highlight_paper(paper):\n",
    "    for i, author in enumerate(paper[\"authors\"]):\n",
    "        if author in AUTHORS:\n",
    "            paper[\"authors\"][i] = HIGHLIGHT_TEMPLATE.format(author)\n",
    "            \n",
    "    for keyword in KEYWORDS:\n",
    "        paper[\"abstract\"] = highlight(keyword, paper[\"abstract\"])\n",
    "    return paper\n",
    "\n",
    "\n",
    "def render_paper(paper):\n",
    "    render = \"\"\n",
    "    render += \"<h3>{}</h3>\".format(paper[\"title\"])\n",
    "    render += \"<b>{}</b><br>\".format(', '.join(paper[\"authors\"]))\n",
    "    render += \"{}<br>\".format(paper[\"abstract\"])\n",
    "    render += \"<i>{}</i><br>\".format(', '.join(paper[\"subjects\"]))\n",
    "    render += '<a href=\"https://arxiv.org/abs/{}\" target=\"_blank\">[arXiv]</a> '.format(paper[\"id\"])\n",
    "    render += '<a href=\"https://arxiv.org/pdf/{}.pdf\" target=\"_blank\">[pdf]</a><br>'.format(paper[\"id\"])\n",
    "    return render"
   ]
  },
  {
   "cell_type": "markdown",
   "metadata": {},
   "source": [
    "## User Preferences"
   ]
  },
  {
   "cell_type": "code",
   "execution_count": null,
   "metadata": {},
   "outputs": [],
   "source": [
    "# arXiv subjects.\n",
    "CATEGORIES = [\"cs.AI\", \"cs.CL\", \"cs.GT\", \"cs.CV\", \"cs.LG\", \"cs.MA\", \"cs.SI\", \"cs.NE\", \"stat.ML\"]\n",
    "# Author watch list.\n",
    "AUTHORS = [\"Satinder Singh\", \"Honglak Lee\", \"Aaron Courville\", \"Joelle Pineau\", \"Yoshua Bengio\",\n",
    "           \"Ryan Lowe\", \"Nando de Freitas\", \"Junhyuk Oh\", \"Pieter Abbeel\", \"David Silver\",\n",
    "           \"Scott Reed\", \"Alex Graves\", \"Jacob Andreas\"]\n",
    "# Keyword watch list.\n",
    "KEYWORDS = [\"reinforcement\", \"lifelong\", \"continual\", \"education\", \"multi-agent\", \"memory\",\n",
    "            \"time\", \"meta-learning\"]"
   ]
  },
  {
   "cell_type": "markdown",
   "metadata": {},
   "source": [
    "## Gather papers"
   ]
  },
  {
   "cell_type": "code",
   "execution_count": null,
   "metadata": {
    "scrolled": false
   },
   "outputs": [],
   "source": [
    "# Collect papers across all the categories we are interested in.\n",
    "papers = {}\n",
    "for cat in CATEGORIES:\n",
    "    papers.update(get_new_papers(cat))\n",
    "print(\"Found {} papers.\".format(len(papers)))\n",
    "\n",
    "# Print the interest papers.\n",
    "page = \"\"\n",
    "page += '<link href=\"https://fonts.googleapis.com/css?family=Lato\" rel=\"stylesheet\">'\n",
    "page += \"<style>.output_html *{font-family: 'Lato', sans-serif;}</style>\"\n",
    "page += \"<h1>Starred Papers</h1>\"\n",
    "for paper in papers.values():\n",
    "    if is_interesting(paper):\n",
    "        paper = highlight_paper(paper)\n",
    "        page += render_paper(paper)\n",
    "        \n",
    "# Print the rest.\n",
    "page += \"<br><br><h1>Other Papers</h1>\"\n",
    "for paper in papers.values():\n",
    "    if not is_interesting(paper):\n",
    "        page += render_paper(paper)\n",
    "        \n",
    "display(HTML(page))"
   ]
  },
  {
   "cell_type": "code",
   "execution_count": null,
   "metadata": {},
   "outputs": [],
   "source": []
  }
 ],
 "metadata": {
  "kernelspec": {
   "display_name": "Python 3",
   "language": "python",
   "name": "python3"
  },
  "language_info": {
   "codemirror_mode": {
    "name": "ipython",
    "version": 3
   },
   "file_extension": ".py",
   "mimetype": "text/x-python",
   "name": "python",
   "nbconvert_exporter": "python",
   "pygments_lexer": "ipython3",
   "version": "3.5.4"
  }
 },
 "nbformat": 4,
 "nbformat_minor": 2
}
